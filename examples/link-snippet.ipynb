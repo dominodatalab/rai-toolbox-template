{
 "cells": [
  {
   "cell_type": "code",
   "execution_count": null,
   "id": "b16de6e7-103d-4afb-90c8-62f1e8e75f81",
   "metadata": {},
   "outputs": [],
   "source": [
    "dashboard = ... # Create the Dashboard object here. See https://erroranalysis.ai/raiwidgets.html"
   ]
  },
  {
   "cell_type": "markdown",
   "id": "1966747d-ff9e-4f07-a1f4-7c35d94c155a",
   "metadata": {},
   "source": [
    "The code snippet below, given a \"dashboard\" object instance, will display a clickable link that will open the dashboard on a new browser tab:"
   ]
  },
  {
   "cell_type": "code",
   "execution_count": null,
   "id": "798118a7-06a2-40b6-9a7c-d65a09c75bdc",
   "metadata": {},
   "outputs": [],
   "source": [
    "import os\n",
    "from IPython.display import HTML\n",
    "DOMINO_USER_NAME = os.environ.get('DOMINO_USER_NAME')\n",
    "DOMINO_PROJECT_NAME = os.environ.get('DOMINO_PROJECT_NAME')\n",
    "DOMINO_RUN_ID = os.environ.get('DOMINO_RUN_ID')\n",
    "port=dashboard.config['baseUrl'].split(':')[-1]\n",
    "url = f\"/{DOMINO_USER_NAME}/{DOMINO_PROJECT_NAME}/notebookSession/{DOMINO_RUN_ID}/proxy/{port}\"\n",
    "display(HTML(f'<a href=\"{url}\" target=\"_blank\">Responsible AI Dashboard</a>'))"
   ]
  }
 ],
 "metadata": {
  "kernelspec": {
   "display_name": "Python 3 (ipykernel)",
   "language": "python",
   "name": "python3"
  },
  "language_info": {
   "codemirror_mode": {
    "name": "ipython",
    "version": 3
   },
   "file_extension": ".py",
   "mimetype": "text/x-python",
   "name": "python",
   "nbconvert_exporter": "python",
   "pygments_lexer": "ipython3",
   "version": "3.9.18"
  }
 },
 "nbformat": 4,
 "nbformat_minor": 5
}
